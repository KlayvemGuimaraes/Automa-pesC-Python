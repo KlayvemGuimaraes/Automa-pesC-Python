{
 "cells": [
  {
   "cell_type": "markdown",
   "metadata": {},
   "source": [
    "# Análise de Dados com Python\n",
    "\n",
    "### Desafio:\n",
    "\n",
    "Você trabalha em uma empresa de telecom e tem clientes de vários serviços diferentes, entre os principais: internet e telefone.\n",
    "\n",
    "O problema é que, analisando o histórico dos clientes dos últimos anos, você percebeu que a empresa está com Churn de mais de 26% dos clientes.\n",
    "\n",
    "Isso representa uma perda de milhões para a empresa.\n",
    "\n",
    "O que a empresa precisa fazer para resolver isso?\n",
    "\n",
    "Base de Dados: https://drive.google.com/drive/folders/1T7D0BlWkNuy_MDpUHuBG44kT80EmRYIs?usp=sharing <br>\n",
    "Link Original do Kaggle: https://www.kaggle.com/radmirzosimov/telecom-users-dataset"
   ]
  },
  {
   "cell_type": "code",
   "execution_count": null,
   "metadata": {},
   "outputs": [],
   "source": [
    "# Passo 1: Importar a base de dados\n",
    "import pandas as pd\n",
    "\n",
    "tabela = pd.read_csv(\"telecom_users.csv\")\n",
    "\n",
    "# Passo 2: Visualizar a base de dados\n",
    "tabela = tabela.drop(\"Unnamed: 0\", axis=1)\n",
    "display(tabela)\n",
    "# - Entender quais as informações tão disponíveis\n",
    "# - Descobrir as cagadas da base de dados"
   ]
  },
  {
   "cell_type": "code",
   "execution_count": null,
   "metadata": {},
   "outputs": [],
   "source": [
    "# Passo 3: Tratamento de dados\n",
    "# - Valores que estão reconhecidos de forma errada\n",
    "tabela[\"TotalGasto\"] = pd.to_numeric(tabela[\"TotalGasto\"], errors=\"coerce\")\n",
    "\n",
    "# - Valores vazios\n",
    "# deletando as colunas vazias\n",
    "# axis = 0 _> linha ou axis = 1 _> coluna\n",
    "tabela = tabela.dropna(how=\"all\", axis=1)\n",
    "# deletando as linhas vazias\n",
    "tabela = tabela.dropna(how=\"any\", axis=0)\n",
    "\n",
    "print(tabela.info())"
   ]
  },
  {
   "cell_type": "code",
   "execution_count": 3,
   "metadata": {},
   "outputs": [
    {
     "ename": "NameError",
     "evalue": "name 'tabela' is not defined",
     "output_type": "error",
     "traceback": [
      "\u001b[1;31m---------------------------------------------------------------------------\u001b[0m",
      "\u001b[1;31mNameError\u001b[0m                                 Traceback (most recent call last)",
      "Cell \u001b[1;32mIn[3], line 3\u001b[0m\n\u001b[0;32m      1\u001b[0m \u001b[39m# Passo 4: Análise Inicial\u001b[39;00m\n\u001b[0;32m      2\u001b[0m \u001b[39m# Como estão os nossos cancelamentos?\u001b[39;00m\n\u001b[1;32m----> 3\u001b[0m \u001b[39mprint\u001b[39m(tabela[\u001b[39m\"\u001b[39m\u001b[39mChurn\u001b[39m\u001b[39m\"\u001b[39m]\u001b[39m.\u001b[39mvalue_counts())\n\u001b[0;32m      4\u001b[0m \u001b[39mprint\u001b[39m(tabela[\u001b[39m\"\u001b[39m\u001b[39mChurn\u001b[39m\u001b[39m\"\u001b[39m]\u001b[39m.\u001b[39mvalue_counts(normalize\u001b[39m=\u001b[39m\u001b[39mTrue\u001b[39;00m)\u001b[39m.\u001b[39mmap(\u001b[39m\"\u001b[39m\u001b[39m{:.1%}\u001b[39;00m\u001b[39m\"\u001b[39m\u001b[39m.\u001b[39mformat))\n",
      "\u001b[1;31mNameError\u001b[0m: name 'tabela' is not defined"
     ]
    }
   ],
   "source": [
    "# Passo 4: Análise Inicial\n",
    "# Como estão os nossos cancelamentos?\n",
    "print(tabela[\"Churn\"].value_counts())\n",
    "print(tabela[\"Churn\"].value_counts(normalize=True).map(\"{:.1%}\".format))"
   ]
  },
  {
   "cell_type": "code",
   "execution_count": 2,
   "metadata": {
    "scrolled": true
   },
   "outputs": [
    {
     "ename": "NameError",
     "evalue": "name 'tabela' is not defined",
     "output_type": "error",
     "traceback": [
      "\u001b[1;31m---------------------------------------------------------------------------\u001b[0m",
      "\u001b[1;31mNameError\u001b[0m                                 Traceback (most recent call last)",
      "Cell \u001b[1;32mIn[2], line 6\u001b[0m\n\u001b[0;32m      3\u001b[0m \u001b[39mimport\u001b[39;00m \u001b[39mplotly\u001b[39;00m\u001b[39m.\u001b[39;00m\u001b[39mexpress\u001b[39;00m \u001b[39mas\u001b[39;00m \u001b[39mpx\u001b[39;00m\n\u001b[0;32m      5\u001b[0m \u001b[39m# etapa 1: criar o gráfico\u001b[39;00m\n\u001b[1;32m----> 6\u001b[0m \u001b[39mfor\u001b[39;00m coluna \u001b[39min\u001b[39;00m tabela\u001b[39m.\u001b[39mcolumns:\n\u001b[0;32m      7\u001b[0m     \u001b[39m# para edições nos gráficos: https://plotly.com/python/histograms/\u001b[39;00m\n\u001b[0;32m      8\u001b[0m     \u001b[39m# para mudar a cor do gráfico , color_discrete_sequence=[\"blue\", \"green\"]\u001b[39;00m\n\u001b[0;32m      9\u001b[0m     grafico \u001b[39m=\u001b[39m px\u001b[39m.\u001b[39mhistogram(tabela, x\u001b[39m=\u001b[39mcoluna, color\u001b[39m=\u001b[39m\u001b[39m\"\u001b[39m\u001b[39mChurn\u001b[39m\u001b[39m\"\u001b[39m, text_auto\u001b[39m=\u001b[39m\u001b[39mTrue\u001b[39;00m)\n\u001b[0;32m     10\u001b[0m     \u001b[39m# etapa 2: exibir o gráfico\u001b[39;00m\n",
      "\u001b[1;31mNameError\u001b[0m: name 'tabela' is not defined"
     ]
    }
   ],
   "source": [
    "# Passo 5: Análise Mais completa\n",
    "# comparar cada coluna da minha tabela com a coluna de cancelamento\n",
    "import plotly.express as px\n",
    "\n",
    "# etapa 1: criar o gráfico\n",
    "for coluna in tabela.columns:\n",
    "    # para edições nos gráficos: https://plotly.com/python/histograms/\n",
    "    # para mudar a cor do gráfico , color_discrete_sequence=[\"blue\", \"green\"]\n",
    "    grafico = px.histogram(tabela, x=coluna, color=\"Churn\", text_auto=True)\n",
    "    # etapa 2: exibir o gráfico\n",
    "    grafico.show()"
   ]
  },
  {
   "cell_type": "code",
   "execution_count": null,
   "metadata": {
    "scrolled": false
   },
   "outputs": [],
   "source": [
    "!pip install plotly"
   ]
  },
  {
   "cell_type": "markdown",
   "metadata": {},
   "source": [
    "### Conclusões e Ações"
   ]
  },
  {
   "cell_type": "markdown",
   "metadata": {},
   "source": [
    "Escreva aqui suas conclusões:\n",
    "\n",
    "- Clientes com contrato mensal tem MUITO mais chance de cancelar:\n",
    "    - Podemos fazer promoções para o cliente ir para o contrato anual\n",
    "    \n",
    "- Familias maiores tendem a cancelar menos do que famílias menores\n",
    "    - Podemos fazer promoções pra pessoa pegar uma linha adicional de telefone\n",
    "    \n",
    "- MesesComoCliente baixos tem MUITO cancelamento. Clientes com pouco tempo como cliente tendem a cancelar muito\n",
    "    - A primeira experiência do cliente na operadora pode ser ruim\n",
    "    - Talvez a captação de clientes tá trazendo clientes desqualificados\n",
    "    - Ideia: a gente pode criar incentivo pro cara ficar mais tempo como cliente\n",
    "    \n",
    "- QUanto mais serviços o cara tem, menos chance dele cancelar\n",
    "    - podemos fazer promoções com mais serviços pro cliente\n",
    "    \n",
    "- Tem alguma coisa no nosso serviço de Fibra que tá fazendo os clientes cancelarem\n",
    "    - Agir sobre a fibra\n",
    "    \n",
    "- Clientes no boleto tem MUITO mais chance de cancelar, então temos que fazer alguma ação para eles irem para as outras formas de pagamento"
   ]
  }
 ],
 "metadata": {
  "kernelspec": {
   "display_name": "Python 3",
   "language": "python",
   "name": "python3"
  },
  "language_info": {
   "codemirror_mode": {
    "name": "ipython",
    "version": 3
   },
   "file_extension": ".py",
   "mimetype": "text/x-python",
   "name": "python",
   "nbconvert_exporter": "python",
   "pygments_lexer": "ipython3",
   "version": "3.10.9 (tags/v3.10.9:1dd9be6, Dec  6 2022, 20:01:21) [MSC v.1934 64 bit (AMD64)]"
  },
  "vscode": {
   "interpreter": {
    "hash": "3a303cfd8484d40effea6ddd0412e199df63e46041f157599c319ec5f28b6db4"
   }
  }
 },
 "nbformat": 4,
 "nbformat_minor": 4
}
